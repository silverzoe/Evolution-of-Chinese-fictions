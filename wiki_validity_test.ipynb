{
 "cells": [
  {
   "cell_type": "code",
   "execution_count": 2,
   "id": "50b17423",
   "metadata": {
    "scrolled": true
   },
   "outputs": [
    {
     "name": "stdout",
     "output_type": "stream",
     "text": [
      "<class 'pandas.core.frame.DataFrame'>\n",
      "RangeIndex: 682 entries, 0 to 681\n",
      "Data columns (total 15 columns):\n",
      " #   Column                           Non-Null Count  Dtype \n",
      "---  ------                           --------------  ----- \n",
      " 0   romantic comedy Q860626          657 non-null    object\n",
      " 1   fantasy film Q157394             682 non-null    object\n",
      " 2   dystopian films Q20443008        158 non-null    object\n",
      " 3   children’s film Q2143665         105 non-null    object\n",
      " 4   coming-of-age film (Q102429885)  174 non-null    object\n",
      " 5   martial arts film (Q1033891)     423 non-null    object\n",
      " 6   historical film                  161 non-null    object\n",
      " 7   Adventure films                  199 non-null    object\n",
      " 8   romantic comedy                  657 non-null    object\n",
      " 9   fantasy                          682 non-null    object\n",
      " 10  dystopian                        158 non-null    object\n",
      " 11  historical                       161 non-null    object\n",
      " 12  coming-of-age                    174 non-null    object\n",
      " 13  wuxia                            423 non-null    object\n",
      " 14  Adventure                        199 non-null    object\n",
      "dtypes: object(15)\n",
      "memory usage: 80.0+ KB\n"
     ]
    }
   ],
   "source": [
    "# film_genre_content.csv is a collection of different genre films queried from wikidata. \n",
    "# the code to abtain the content can be seen in \"wiki_description_collector.ipynb\"\n",
    "import pandas as pd\n",
    "df = pd.read_csv(\"wiki_genre_content.csv\")\n",
    "df.info(1)"
   ]
  },
  {
   "cell_type": "code",
   "execution_count": 3,
   "id": "294ec724",
   "metadata": {},
   "outputs": [],
   "source": [
    "#create a new daraframe to set descriptions in seperate columns.\n",
    "t = df[['romantic comedy', 'fantasy','historical','coming-of-age','wuxia','dystopian','Adventure']]"
   ]
  },
  {
   "cell_type": "code",
   "execution_count": 4,
   "id": "c446ce19",
   "metadata": {},
   "outputs": [
    {
     "name": "stdout",
     "output_type": "stream",
     "text": [
      "<class 'pandas.core.frame.DataFrame'>\n",
      "Int64Index: 174 entries, 0 to 173\n",
      "Data columns (total 7 columns):\n",
      " #   Column           Non-Null Count  Dtype \n",
      "---  ------           --------------  ----- \n",
      " 0   romantic comedy  174 non-null    object\n",
      " 1   fantasy          174 non-null    object\n",
      " 2   historical       161 non-null    object\n",
      " 3   coming-of-age    174 non-null    object\n",
      " 4   wuxia            174 non-null    object\n",
      " 5   dystopian        158 non-null    object\n",
      " 6   Adventure        174 non-null    object\n",
      "dtypes: object(7)\n",
      "memory usage: 10.9+ KB\n"
     ]
    }
   ],
   "source": [
    "# set the sample sizes as same as 174.\n",
    "t = t.dropna(thresh=5)\n",
    "t.info()"
   ]
  },
  {
   "cell_type": "code",
   "execution_count": 5,
   "id": "8cb7838b",
   "metadata": {},
   "outputs": [],
   "source": [
    "# for the following tokenization, use astype(str) to transform the value\n",
    "t = pd.DataFrame(t[['romantic comedy', 'fantasy','historical','coming-of-age','wuxia','dystopian','Adventure']].astype(str))"
   ]
  },
  {
   "cell_type": "code",
   "execution_count": 6,
   "id": "0c9bf639",
   "metadata": {},
   "outputs": [
    {
     "name": "stderr",
     "output_type": "stream",
     "text": [
      "Building prefix dict from the default dictionary ...\n",
      "Loading model from cache /var/folders/qf/1_cfr6z54t5dv6mz1x_2zdcr0000gn/T/jieba.cache\n",
      "Loading model cost 0.455 seconds.\n",
      "Prefix dict has been built successfully.\n"
     ]
    }
   ],
   "source": [
    "# use package jieba for tokenization\n",
    "import jieba\n",
    "import re \n",
    "\n",
    "\n",
    "def cutword(x):\n",
    "    seg = jieba.lcut(x, cut_all=False)\n",
    "    return ' '.join(seg)\n",
    "\n",
    "\n",
    "t['romantic_comedy'] = t['romantic comedy'].apply(cutword).astype(str)\n",
    "t['fantasy'] = t['fantasy'].apply(cutword).astype(str)\n",
    "t['historical'] = t['historical'].apply(cutword).astype(str)\n",
    "t['coming-of-age'] = t['coming-of-age'].apply(cutword).astype(str)\n",
    "t['wuxia'] = t['wuxia'].apply(cutword).astype(str)\n",
    "t['dystopian'] = t['dystopian'].apply(cutword).astype(str)\n",
    "t['Adventure'] = t['Adventure'].apply(cutword).astype(str)"
   ]
  },
  {
   "cell_type": "code",
   "execution_count": 7,
   "id": "4f67fc0b",
   "metadata": {},
   "outputs": [
    {
     "data": {
      "text/html": [
       "<div>\n",
       "<style scoped>\n",
       "    .dataframe tbody tr th:only-of-type {\n",
       "        vertical-align: middle;\n",
       "    }\n",
       "\n",
       "    .dataframe tbody tr th {\n",
       "        vertical-align: top;\n",
       "    }\n",
       "\n",
       "    .dataframe thead th {\n",
       "        text-align: right;\n",
       "    }\n",
       "</style>\n",
       "<table border=\"1\" class=\"dataframe\">\n",
       "  <thead>\n",
       "    <tr style=\"text-align: right;\">\n",
       "      <th></th>\n",
       "      <th>romantic comedy</th>\n",
       "      <th>fantasy</th>\n",
       "      <th>historical</th>\n",
       "      <th>coming-of-age</th>\n",
       "      <th>wuxia</th>\n",
       "      <th>dystopian</th>\n",
       "      <th>Adventure</th>\n",
       "      <th>romantic_comedy</th>\n",
       "    </tr>\n",
       "  </thead>\n",
       "  <tbody>\n",
       "    <tr>\n",
       "      <th>0</th>\n",
       "      <td>《一半海水 一半火燄》（英語：ocean flame）是一部    年的電影，由星皓娱乐有限...</td>\n",
       "      <td>《 一万年 以后 》 （ 英語 ：             years   later ） ...</td>\n",
       "      <td>《 一秒 鐘 》 是 一部         年 中國 大陆 劇情片 ， 由 张艺谋 執導 ，...</td>\n",
       "      <td>《 一吻 定 江山 》 （ never   been   kissed ） 是 一部    ...</td>\n",
       "      <td>《 一个 人 的 武林 》 （ 英語 ： kung   fu   jungle ） ， 香港...</td>\n",
       "      <td>《 一九八 四 》 （ 英語 ：         ） 是 一部         年 英國 黑...</td>\n",
       "      <td>《 x 戰警 ： 黑鳳凰 》 （ 英語 ： dark   phoenix ， 或 記作 x ...</td>\n",
       "      <td>《 一半 海水   一半 火 燄 》 （ 英語 ： ocean   flame ） 是 一部...</td>\n",
       "    </tr>\n",
       "    <tr>\n",
       "      <th>1</th>\n",
       "      <td>《一吻定江山》（never been kissed）是一部    年由二十世紀福斯出品的美国...</td>\n",
       "      <td>《 歡樂谷 》 （ 英語 ： pleasantville ， 香港 译 《 一人 有 一點 ...</td>\n",
       "      <td>《 法外 之王 》 （ 英語 ： outlaw   king ， 香港 译 《 逃犯 國王 ...</td>\n",
       "      <td>一夫 當關 （ main   hoon   na ， 印地 語 ： म ै ं   ह ू ...</td>\n",
       "      <td>《 一代 宗師 》 （ 英語 ： the   grandmaster ） ， 於      ...</td>\n",
       "      <td>《 一九八 四 》 （ 英語 ： nineteen   eighty - four ， 又 ...</td>\n",
       "      <td>《 t -     ： 玩命 坦克 》   （ 俄語 ： т -     ） 是 由 ale...</td>\n",
       "      <td>《 一吻 定 江山 》 （ never   been   kissed ） 是 一部    ...</td>\n",
       "    </tr>\n",
       "  </tbody>\n",
       "</table>\n",
       "</div>"
      ],
      "text/plain": [
       "                                     romantic comedy  \\\n",
       "0  《一半海水 一半火燄》（英語：ocean flame）是一部    年的電影，由星皓娱乐有限...   \n",
       "1  《一吻定江山》（never been kissed）是一部    年由二十世紀福斯出品的美国...   \n",
       "\n",
       "                                             fantasy  \\\n",
       "0  《 一万年 以后 》 （ 英語 ：             years   later ） ...   \n",
       "1  《 歡樂谷 》 （ 英語 ： pleasantville ， 香港 译 《 一人 有 一點 ...   \n",
       "\n",
       "                                          historical  \\\n",
       "0  《 一秒 鐘 》 是 一部         年 中國 大陆 劇情片 ， 由 张艺谋 執導 ，...   \n",
       "1  《 法外 之王 》 （ 英語 ： outlaw   king ， 香港 译 《 逃犯 國王 ...   \n",
       "\n",
       "                                       coming-of-age  \\\n",
       "0  《 一吻 定 江山 》 （ never   been   kissed ） 是 一部    ...   \n",
       "1  一夫 當關 （ main   hoon   na ， 印地 語 ： म ै ं   ह ू ...   \n",
       "\n",
       "                                               wuxia  \\\n",
       "0  《 一个 人 的 武林 》 （ 英語 ： kung   fu   jungle ） ， 香港...   \n",
       "1  《 一代 宗師 》 （ 英語 ： the   grandmaster ） ， 於      ...   \n",
       "\n",
       "                                           dystopian  \\\n",
       "0  《 一九八 四 》 （ 英語 ：         ） 是 一部         年 英國 黑...   \n",
       "1  《 一九八 四 》 （ 英語 ： nineteen   eighty - four ， 又 ...   \n",
       "\n",
       "                                           Adventure  \\\n",
       "0  《 x 戰警 ： 黑鳳凰 》 （ 英語 ： dark   phoenix ， 或 記作 x ...   \n",
       "1  《 t -     ： 玩命 坦克 》   （ 俄語 ： т -     ） 是 由 ale...   \n",
       "\n",
       "                                     romantic_comedy  \n",
       "0  《 一半 海水   一半 火 燄 》 （ 英語 ： ocean   flame ） 是 一部...  \n",
       "1  《 一吻 定 江山 》 （ never   been   kissed ） 是 一部    ...  "
      ]
     },
     "execution_count": 7,
     "metadata": {},
     "output_type": "execute_result"
    }
   ],
   "source": [
    "t.head(2)"
   ]
  },
  {
   "cell_type": "code",
   "execution_count": 8,
   "id": "29579dfa",
   "metadata": {},
   "outputs": [],
   "source": [
    "# remove punctuation and stopwords \n",
    "# split tokenizaed text so that it can be calculated by length\n",
    "t['romantic_comedy_splited'] = t['romantic_comedy'].str.split()\n",
    "t['fantasy_splited'] = t['fantasy'].str.split()\n",
    "t['historical_splited'] = t['historical'].str.split()\n",
    "t['comingofage_splited'] = t['coming-of-age'].str.split()\n",
    "t['wuxia_splited'] = t['wuxia'].str.split()\n",
    "t['dystopian_splited'] = t['dystopian'].str.split()\n",
    "t['adventure_splited'] = t['Adventure'].str.split()\n",
    "\n",
    "#remove the punctuation chinese by using package zhon.\n",
    "from zhon.hanzi import punctuation\n",
    "punctuation_str = punctuation\n",
    "for i in punctuation:\n",
    "    t['romantic_comedy_splited'] = t['romantic_comedy_splited'].astype(str).str.replace(i, '')\n",
    "    \n",
    "for i in punctuation:\n",
    "    t['fantasy_splited'] = t['fantasy_splited'].astype(str).str.replace(i, '')\n",
    "for i in punctuation:\n",
    "    t['historical_splited'] = t['historical_splited'].astype(str).str.replace(i, '')\n",
    "\n",
    "for i in punctuation:\n",
    "    t['comingofage_splited'] = t['comingofage_splited'].astype(str).str.replace(i, '')  \n",
    "    \n",
    "    \n",
    "for i in punctuation:\n",
    "    t['wuxia_splited'] = t['wuxia_splited'].astype(str).str.replace(i, '')  \n",
    "for i in punctuation:\n",
    "    t['dystopian_splited'] = t['dystopian_splited'].astype(str).str.replace(i, '')\n",
    "for i in punctuation:\n",
    "    t['adventure_splited'] = t['adventure_splited'].astype(str).str.replace(i, '')  "
   ]
  },
  {
   "cell_type": "code",
   "execution_count": 9,
   "id": "bef23041",
   "metadata": {},
   "outputs": [
    {
     "data": {
      "text/html": [
       "<div>\n",
       "<style scoped>\n",
       "    .dataframe tbody tr th:only-of-type {\n",
       "        vertical-align: middle;\n",
       "    }\n",
       "\n",
       "    .dataframe tbody tr th {\n",
       "        vertical-align: top;\n",
       "    }\n",
       "\n",
       "    .dataframe thead th {\n",
       "        text-align: right;\n",
       "    }\n",
       "</style>\n",
       "<table border=\"1\" class=\"dataframe\">\n",
       "  <thead>\n",
       "    <tr style=\"text-align: right;\">\n",
       "      <th></th>\n",
       "      <th>romantic comedy</th>\n",
       "      <th>fantasy</th>\n",
       "      <th>historical</th>\n",
       "      <th>coming-of-age</th>\n",
       "      <th>wuxia</th>\n",
       "      <th>dystopian</th>\n",
       "      <th>Adventure</th>\n",
       "      <th>romantic_comedy</th>\n",
       "      <th>romantic_comedy_splited</th>\n",
       "      <th>fantasy_splited</th>\n",
       "      <th>historical_splited</th>\n",
       "      <th>comingofage_splited</th>\n",
       "      <th>wuxia_splited</th>\n",
       "      <th>dystopian_splited</th>\n",
       "      <th>adventure_splited</th>\n",
       "    </tr>\n",
       "  </thead>\n",
       "  <tbody>\n",
       "    <tr>\n",
       "      <th>0</th>\n",
       "      <td>《一半海水 一半火燄》（英語：ocean flame）是一部    年的電影，由星皓娱乐有限...</td>\n",
       "      <td>《 一万年 以后 》 （ 英語 ：             years   later ） ...</td>\n",
       "      <td>《 一秒 鐘 》 是 一部         年 中國 大陆 劇情片 ， 由 张艺谋 執導 ，...</td>\n",
       "      <td>《 一吻 定 江山 》 （ never   been   kissed ） 是 一部    ...</td>\n",
       "      <td>《 一个 人 的 武林 》 （ 英語 ： kung   fu   jungle ） ， 香港...</td>\n",
       "      <td>《 一九八 四 》 （ 英語 ：         ） 是 一部         年 英國 黑...</td>\n",
       "      <td>《 x 戰警 ： 黑鳳凰 》 （ 英語 ： dark   phoenix ， 或 記作 x ...</td>\n",
       "      <td>《 一半 海水   一半 火 燄 》 （ 英語 ： ocean   flame ） 是 一部...</td>\n",
       "      <td>['', '一半', '海水', '一半', '火', '燄', '', '', '英語',...</td>\n",
       "      <td>['', '一万年', '以后', '', '', '英語', '', 'years', '...</td>\n",
       "      <td>['', '一秒', '鐘', '', '是', '一部', '年', '中國', '大陆'...</td>\n",
       "      <td>['', '一吻', '定', '江山', '', '', 'never', 'been',...</td>\n",
       "      <td>['', '一个', '人', '的', '武林', '', '', '英語', '', '...</td>\n",
       "      <td>['', '一九八', '四', '', '', '英語', '', '', '是', '一...</td>\n",
       "      <td>['', 'x', '戰警', '', '黑鳳凰', '', '', '英語', '', '...</td>\n",
       "    </tr>\n",
       "  </tbody>\n",
       "</table>\n",
       "</div>"
      ],
      "text/plain": [
       "                                     romantic comedy  \\\n",
       "0  《一半海水 一半火燄》（英語：ocean flame）是一部    年的電影，由星皓娱乐有限...   \n",
       "\n",
       "                                             fantasy  \\\n",
       "0  《 一万年 以后 》 （ 英語 ：             years   later ） ...   \n",
       "\n",
       "                                          historical  \\\n",
       "0  《 一秒 鐘 》 是 一部         年 中國 大陆 劇情片 ， 由 张艺谋 執導 ，...   \n",
       "\n",
       "                                       coming-of-age  \\\n",
       "0  《 一吻 定 江山 》 （ never   been   kissed ） 是 一部    ...   \n",
       "\n",
       "                                               wuxia  \\\n",
       "0  《 一个 人 的 武林 》 （ 英語 ： kung   fu   jungle ） ， 香港...   \n",
       "\n",
       "                                           dystopian  \\\n",
       "0  《 一九八 四 》 （ 英語 ：         ） 是 一部         年 英國 黑...   \n",
       "\n",
       "                                           Adventure  \\\n",
       "0  《 x 戰警 ： 黑鳳凰 》 （ 英語 ： dark   phoenix ， 或 記作 x ...   \n",
       "\n",
       "                                     romantic_comedy  \\\n",
       "0  《 一半 海水   一半 火 燄 》 （ 英語 ： ocean   flame ） 是 一部...   \n",
       "\n",
       "                             romantic_comedy_splited  \\\n",
       "0  ['', '一半', '海水', '一半', '火', '燄', '', '', '英語',...   \n",
       "\n",
       "                                     fantasy_splited  \\\n",
       "0  ['', '一万年', '以后', '', '', '英語', '', 'years', '...   \n",
       "\n",
       "                                  historical_splited  \\\n",
       "0  ['', '一秒', '鐘', '', '是', '一部', '年', '中國', '大陆'...   \n",
       "\n",
       "                                 comingofage_splited  \\\n",
       "0  ['', '一吻', '定', '江山', '', '', 'never', 'been',...   \n",
       "\n",
       "                                       wuxia_splited  \\\n",
       "0  ['', '一个', '人', '的', '武林', '', '', '英語', '', '...   \n",
       "\n",
       "                                   dystopian_splited  \\\n",
       "0  ['', '一九八', '四', '', '', '英語', '', '', '是', '一...   \n",
       "\n",
       "                                   adventure_splited  \n",
       "0  ['', 'x', '戰警', '', '黑鳳凰', '', '', '英語', '', '...  "
      ]
     },
     "execution_count": 9,
     "metadata": {},
     "output_type": "execute_result"
    }
   ],
   "source": [
    "t.head(1)"
   ]
  },
  {
   "cell_type": "markdown",
   "id": "69a44692",
   "metadata": {},
   "source": [
    "# love ratio compare : romantic comedy versus historical films"
   ]
  },
  {
   "cell_type": "markdown",
   "id": "cae2a447",
   "metadata": {},
   "source": [
    "##First, calculate how many words a description has. Then calculate how many topic words a description has. Last, calculate the ratio of topic by ( topic words numbers / total length of description). T-test comparation conducted to compare the same dictionaries performance on different genre contents."
   ]
  },
  {
   "cell_type": "markdown",
   "id": "26c6f098",
   "metadata": {},
   "source": [
    "#### test wantsword method"
   ]
  },
  {
   "cell_type": "code",
   "execution_count": 10,
   "id": "a252ae66",
   "metadata": {},
   "outputs": [],
   "source": [
    "#calculate the porpotion of love words in romantic comedy description and historical films' description\n",
    "\n",
    "# the total length of each description \n",
    "t['romantic_comedy_splited_length'] = t['romantic_comedy_splited'].str.len()\n",
    "t['historical_splited_length'] = t['historical_splited'].str.len()\n",
    "\n",
    "# here we calculate the words numbers related to romantic love in wantswords\n",
    "t['love_comedy'] = sum(t['romantic_comedy_splited'].str.count(x) for x in (\"爱情\",\"恋情\",\"怜情\",\"言情\",\"恩爱\",\"依恋\",\"配\",\"深情\",\"钟情\" ,\"爱侣\" ,\"伴侣\" ,\"偕老\",\"定终身\",\"情爱\",\"恋\",\"爱上\",\"痴情\",\"动情\",\"相思\" ,\"相爱\",\"男欢女爱\",\"儿女之情\",\"一见钟情\",\"情侣\",\"心上人\",\"才子佳人\"))\n",
    "t['love_historical'] = sum(t['historical_splited'].str.count(x) for x in (\"爱情\",\"恋情\",\"怜情\",\"言情\",\"恩爱\",\"依恋\",\"配\",\"深情\",\"钟情\" ,\"爱侣\" ,\"伴侣\" ,\"偕老\",\"定终身\",\"情爱\",\"恋\",\"爱上\",\"痴情\",\"动情\",\"相思\" ,\"相爱\",\"男欢女爱\",\"儿女之情\",\"一见钟情\",\"情侣\",\"心上人\",\"才子佳人\"))\n",
    "\n",
    "#caculate love elements in length, examples: t['love_xxxx'] / t['xxx_length']\n",
    "t['love_ratio_comedy'] = t['love_comedy'] / t['romantic_comedy_splited_length']\n",
    "t['love_ratio_historical'] = t['love_historical'] / t['historical_splited_length']"
   ]
  },
  {
   "cell_type": "code",
   "execution_count": 11,
   "id": "80ffdb10",
   "metadata": {},
   "outputs": [
    {
     "name": "stdout",
     "output_type": "stream",
     "text": [
      "0.9137931034482759\n",
      "0.4827586206896552\n"
     ]
    }
   ],
   "source": [
    "#check the mean numbers of topic in each genre (how many topic words one description has)\n",
    "Total_1 = t['love_comedy'].mean()\n",
    "Total_2 = t['love_historical'].mean()\n",
    "print(Total_1)\n",
    "print(Total_2)"
   ]
  },
  {
   "cell_type": "code",
   "execution_count": 12,
   "id": "1ac12625",
   "metadata": {},
   "outputs": [
    {
     "data": {
      "text/plain": [
       "Ttest_indResult(statistic=4.050868889345594, pvalue=6.30342389566296e-05)"
      ]
     },
     "execution_count": 12,
     "metadata": {},
     "output_type": "execute_result"
    }
   ],
   "source": [
    "# t - test for the topic ratio\n",
    "from scipy.stats import ttest_ind\n",
    "import seaborn as sns\n",
    "ttest_ind(t['love_ratio_comedy'], t['love_ratio_historical'])"
   ]
  },
  {
   "cell_type": "markdown",
   "id": "cc5e949a",
   "metadata": {},
   "source": [
    "#### methord 2 bag of words"
   ]
  },
  {
   "cell_type": "code",
   "execution_count": 13,
   "id": "9e5171d7",
   "metadata": {},
   "outputs": [
    {
     "data": {
      "text/plain": [
       "Ttest_indResult(statistic=3.584487145821982, pvalue=0.0003862486656242385)"
      ]
     },
     "execution_count": 13,
     "metadata": {},
     "output_type": "execute_result"
    }
   ],
   "source": [
    "# here we calculate the words numbers related to romantic love based on method 2 \n",
    "t['love_comedy_2'] = sum(t['romantic_comedy_splited'].str.count(x) for x in ('爱情', '情感', '甜蜜',  '真爱', '宿命', '挚爱','爱恋','虐恋', '深情',  '暗恋', '刻骨铭心', '真情', '恋爱', '爱情', '恋人', '情侣',  '初恋', '情人',  '暗恋', '初恋',  '烦恼',  '失恋', '欢喜','告白', '依恋'))\n",
    "t['love_historical_2'] = sum(t['historical_splited'].str.count(x) for x in ('爱情', '情感', '甜蜜',  '真爱', '宿命', '挚爱','爱恋','虐恋', '深情',  '暗恋', '刻骨铭心', '真情', '恋爱', '爱情', '恋人', '情侣',  '初恋', '情人',  '暗恋', '初恋',  '烦恼',  '失恋', '欢喜','告白', '依恋'))\n",
    "\n",
    "#calculate topic ratio\n",
    "t['love_ratio_comedy_2'] = t['love_comedy_2'] / t['romantic_comedy_splited_length']\n",
    "t['love_ratio_historical_2'] = t['love_historical_2'] / t['historical_splited_length']\n",
    "\n",
    "\n",
    "ttest_ind(t['love_ratio_comedy_2'], t['love_ratio_historical_2'])"
   ]
  },
  {
   "cell_type": "code",
   "execution_count": 16,
   "id": "90df7598",
   "metadata": {},
   "outputs": [
    {
     "name": "stdout",
     "output_type": "stream",
     "text": [
      "1.1494252873563218\n",
      "0.1839080459770115\n"
     ]
    }
   ],
   "source": [
    "Total_3 = t['love_comedy_2'].mean()\n",
    "Total_4 = t['love_historical_2'].mean()\n",
    "print(Total_3)\n",
    "print(Total_4)"
   ]
  },
  {
   "cell_type": "markdown",
   "id": "64d54e53",
   "metadata": {},
   "source": [
    "# fictionality compare : fantasy and romantic comedy "
   ]
  },
  {
   "cell_type": "code",
   "execution_count": 17,
   "id": "78297caf",
   "metadata": {},
   "outputs": [
    {
     "data": {
      "text/plain": [
       "Ttest_indResult(statistic=9.410298397669173, pvalue=7.102391249595409e-19)"
      ]
     },
     "execution_count": 17,
     "metadata": {},
     "output_type": "execute_result"
    }
   ],
   "source": [
    "# the total length of each description \n",
    "t['fantasy_splited_length'] = t['fantasy_splited'].str.len()\n",
    "\n",
    "# here we calculate the words numbers related to topic\n",
    "t['fictionality_historical'] = sum(t['historical_splited'].str.count(x) for x in (\"虚构\",\"虚造\",\"杜撰\",\"神话\",\"神魔\" ,\"幻\" ,\"幻设\" ,\"想象\" ,\"臆造\" ,\"乌有\",\"超现实\" ,\"神\" ,\"仙\" ,\"鬼\" ,\"怪\" ,\"妖\", \"魔\",\"天堂\" ,\"地狱\",\"穿越\",\"科幻\"))\n",
    "t['fictionality_fantasy'] = sum(t['fantasy_splited'].str.count(x) for x in (\"虚构\",\"虚造\",\"杜撰\",\"神话\",\"神魔\" ,\"幻\" ,\"幻设\" ,\"想象\" ,\"臆造\" ,\"乌有\",\"超现实\" ,\"神\" ,\"仙\" ,\"鬼\" ,\"怪\" ,\"妖\", \"魔\",\"天堂\" ,\"地狱\",\"穿越\",\"科幻\"))\n",
    "\n",
    "\n",
    "#caculate fictionality words in lenth: t['fictionality_xxxx'] / t['xxx_length']\n",
    "t['fictionality_ratio_historical'] = t['fictionality_historical'] / t['historical_splited_length']\n",
    "t['fictionality_ratio_fantasy'] = t['fictionality_fantasy'] / t['fantasy_splited_length']\n",
    "\n",
    "ttest_ind(t['fictionality_ratio_fantasy'], t[\"fictionality_ratio_historical\"])"
   ]
  },
  {
   "cell_type": "code",
   "execution_count": 18,
   "id": "863ae6ed",
   "metadata": {},
   "outputs": [
    {
     "name": "stdout",
     "output_type": "stream",
     "text": [
      "1.1896551724137931\n",
      "7.114942528735632\n"
     ]
    }
   ],
   "source": [
    "Total_5 = t['fictionality_historical'].mean()\n",
    "Total_6 = t['fictionality_fantasy'].mean()\n",
    "print(Total_5)\n",
    "print(Total_6)"
   ]
  },
  {
   "cell_type": "markdown",
   "id": "df92ee0d",
   "metadata": {},
   "source": [
    "### methord 2 : bag of words for fictionality "
   ]
  },
  {
   "cell_type": "code",
   "execution_count": 19,
   "id": "92409ab8",
   "metadata": {},
   "outputs": [
    {
     "data": {
      "text/plain": [
       "Ttest_indResult(statistic=1.0900744051590328, pvalue=0.27643895045642075)"
      ]
     },
     "execution_count": 19,
     "metadata": {},
     "output_type": "execute_result"
    }
   ],
   "source": [
    "#repeat the steps\n",
    "t['fictionality_historical_2'] = sum(t['historical_splited'].str.count(x) for x in (['虚构', '真实', '怪诞', '荒诞', '幻想','杜撰', '拟作', '编造',  '伪托', '假想', '魔剑',  '幽灵', '天使', '恶魔', '天堂', '魔鬼','战神', '虚幻', '荒诞', '奇异', '梦境', '超脱','幻想', '千变万化', '超现实','修仙',  '妖魔', '鬼魂', '妖怪', '封印', '魔界', '天界', '邪魔', '想象', '想像', '意象', '天马行空',  '虚幻', '梦幻', '另类', '梦境', '妖魔', '鬼魂', '妖怪', '封印', '魔界',  '化作',  '天界', '邪魔']))\n",
    "t['fictionality_fantasy_2'] = sum(t['fantasy_splited'].str.count(x) for x in (['虚构', '真实', '怪诞', '荒诞', '幻想','杜撰', '拟作', '编造',  '伪托', '假想', '魔剑',  '幽灵', '天使', '恶魔', '天堂', '魔鬼','战神', '虚幻', '荒诞', '奇异', '梦境', '超脱','幻想', '千变万化', '超现实','修仙',  '妖魔', '鬼魂', '妖怪', '封印', '魔界', '天界', '邪魔', '想象', '想像', '意象', '天马行空',  '虚幻', '梦幻', '另类', '梦境', '妖魔', '鬼魂', '妖怪', '封印', '魔界',  '化作',  '天界', '邪魔']))\n",
    "\n",
    "\n",
    "#caculate fictionality words in lenth: t['fictionality_xxxx'] / t['xxx_length']\n",
    "t['fictionality_ratio_historical_2'] = t['fictionality_historical_2'] / t['historical_splited_length']\n",
    "t['fictionality_ratio_fantasy_2'] = t['fictionality_fantasy_2'] / t['fantasy_splited_length']\n",
    "\n",
    "ttest_ind(t['fictionality_ratio_fantasy_2'], t[\"fictionality_ratio_historical_2\"])"
   ]
  },
  {
   "cell_type": "code",
   "execution_count": 21,
   "id": "cb2f0ae8",
   "metadata": {},
   "outputs": [
    {
     "name": "stdout",
     "output_type": "stream",
     "text": [
      "0.5\n",
      "0.735632183908046\n"
     ]
    }
   ],
   "source": [
    "Total_7 = t['fictionality_historical_2'].mean()\n",
    "Total_8 = t['fictionality_fantasy_2'].mean()\n",
    "print(Total_7)\n",
    "print(Total_8)"
   ]
  },
  {
   "cell_type": "markdown",
   "id": "16d50392",
   "metadata": {},
   "source": [
    "# morality compare: wuxia vs non-wuxia genre"
   ]
  },
  {
   "cell_type": "markdown",
   "id": "5866ef31",
   "metadata": {},
   "source": [
    "### convert other genres into one column and randomly choose 173 wuxia films"
   ]
  },
  {
   "cell_type": "code",
   "execution_count": 25,
   "id": "7a7bc81d",
   "metadata": {},
   "outputs": [
    {
     "data": {
      "text/html": [
       "<div>\n",
       "<style scoped>\n",
       "    .dataframe tbody tr th:only-of-type {\n",
       "        vertical-align: middle;\n",
       "    }\n",
       "\n",
       "    .dataframe tbody tr th {\n",
       "        vertical-align: top;\n",
       "    }\n",
       "\n",
       "    .dataframe thead th {\n",
       "        text-align: right;\n",
       "    }\n",
       "</style>\n",
       "<table border=\"1\" class=\"dataframe\">\n",
       "  <thead>\n",
       "    <tr style=\"text-align: right;\">\n",
       "      <th></th>\n",
       "      <th>non_wuxia_splited</th>\n",
       "    </tr>\n",
       "  </thead>\n",
       "  <tbody>\n",
       "    <tr>\n",
       "      <th>0</th>\n",
       "      <td>['', '善惡', '魔法', '學院', '', '', '英語', '', 'the'...</td>\n",
       "    </tr>\n",
       "    <tr>\n",
       "      <th>1</th>\n",
       "      <td>['', '愛情', '的', '證明', '', '', '天城', '體', '', '...</td>\n",
       "    </tr>\n",
       "    <tr>\n",
       "      <th>2</th>\n",
       "      <td>['', '布朗', '克斯', '的', '故事', '', '', '英語', '', ...</td>\n",
       "    </tr>\n",
       "    <tr>\n",
       "      <th>3</th>\n",
       "      <td>['', '心靈', '訪客', '', '', '英語', '', 'finding', ...</td>\n",
       "    </tr>\n",
       "    <tr>\n",
       "      <th>4</th>\n",
       "      <td>['', '小曼哈頓', '', '', '英語', '', 'little', 'manh...</td>\n",
       "    </tr>\n",
       "    <tr>\n",
       "      <th>...</th>\n",
       "      <td>...</td>\n",
       "    </tr>\n",
       "    <tr>\n",
       "      <th>169</th>\n",
       "      <td>['', '大盜', '五右', '衛門', '', '或譯俠', '盜', '石川', '...</td>\n",
       "    </tr>\n",
       "    <tr>\n",
       "      <th>170</th>\n",
       "      <td>['', '恋恋', '模范生', '', '', '英語', '', 'but', 'i'...</td>\n",
       "    </tr>\n",
       "    <tr>\n",
       "      <th>171</th>\n",
       "      <td>['', '超', '能', '失控', '', '', '英語', '', 'chroni...</td>\n",
       "    </tr>\n",
       "    <tr>\n",
       "      <th>172</th>\n",
       "      <td>['', '卡美拉', '雷吉翁', '襲來', '', '', '原題', '', 'ガ'...</td>\n",
       "    </tr>\n",
       "    <tr>\n",
       "      <th>173</th>\n",
       "      <td>['', '最後一場', '電影', '', '', '英語', '', 'the', 'l...</td>\n",
       "    </tr>\n",
       "  </tbody>\n",
       "</table>\n",
       "<p>174 rows × 1 columns</p>\n",
       "</div>"
      ],
      "text/plain": [
       "                                     non_wuxia_splited\n",
       "0    ['', '善惡', '魔法', '學院', '', '', '英語', '', 'the'...\n",
       "1    ['', '愛情', '的', '證明', '', '', '天城', '體', '', '...\n",
       "2    ['', '布朗', '克斯', '的', '故事', '', '', '英語', '', ...\n",
       "3    ['', '心靈', '訪客', '', '', '英語', '', 'finding', ...\n",
       "4    ['', '小曼哈頓', '', '', '英語', '', 'little', 'manh...\n",
       "..                                                 ...\n",
       "169  ['', '大盜', '五右', '衛門', '', '或譯俠', '盜', '石川', '...\n",
       "170  ['', '恋恋', '模范生', '', '', '英語', '', 'but', 'i'...\n",
       "171  ['', '超', '能', '失控', '', '', '英語', '', 'chroni...\n",
       "172  ['', '卡美拉', '雷吉翁', '襲來', '', '', '原題', '', 'ガ'...\n",
       "173  ['', '最後一場', '電影', '', '', '英語', '', 'the', 'l...\n",
       "\n",
       "[174 rows x 1 columns]"
      ]
     },
     "execution_count": 25,
     "metadata": {},
     "output_type": "execute_result"
    }
   ],
   "source": [
    "#combine all non-wuxia genre into one column for compare \n",
    "non_wuxia = t[[\"romantic_comedy_splited\",\"fantasy_splited\",\"comingofage_splited\"]].copy()\n",
    "non_wuxia = pd.Series(non_wuxia.values.ravel('F')).to_frame()\n",
    "#randomly choose 174 samples from wuxia films\n",
    "non_wuxia = non_wuxia.sample(n=174) \n",
    "non_wuxia.columns = ['non_wuxia_splited']\n",
    "non_wuxia.reset_index(drop=True)"
   ]
  },
  {
   "cell_type": "code",
   "execution_count": 26,
   "id": "7c161a4d",
   "metadata": {},
   "outputs": [
    {
     "data": {
      "text/html": [
       "<div>\n",
       "<style scoped>\n",
       "    .dataframe tbody tr th:only-of-type {\n",
       "        vertical-align: middle;\n",
       "    }\n",
       "\n",
       "    .dataframe tbody tr th {\n",
       "        vertical-align: top;\n",
       "    }\n",
       "\n",
       "    .dataframe thead th {\n",
       "        text-align: right;\n",
       "    }\n",
       "</style>\n",
       "<table border=\"1\" class=\"dataframe\">\n",
       "  <thead>\n",
       "    <tr style=\"text-align: right;\">\n",
       "      <th></th>\n",
       "      <th>wuxia_splited</th>\n",
       "    </tr>\n",
       "  </thead>\n",
       "  <tbody>\n",
       "    <tr>\n",
       "      <th>0</th>\n",
       "      <td>['', '一个', '人', '的', '武林', '', '', '英語', '', '...</td>\n",
       "    </tr>\n",
       "    <tr>\n",
       "      <th>1</th>\n",
       "      <td>['', '一代', '宗師', '', '', '英語', '', 'the', 'gra...</td>\n",
       "    </tr>\n",
       "    <tr>\n",
       "      <th>2</th>\n",
       "      <td>['', '一個', '好人', '', '', '英語', '', 'mr', '.', ...</td>\n",
       "    </tr>\n",
       "    <tr>\n",
       "      <th>3</th>\n",
       "      <td>['', '點止', '功夫', '咁', '簡單', '', '', '英語', '', ...</td>\n",
       "    </tr>\n",
       "    <tr>\n",
       "      <th>4</th>\n",
       "      <td>['', '一眉', '道人', '', '', '英語', '', 'vampire', ...</td>\n",
       "    </tr>\n",
       "    <tr>\n",
       "      <th>...</th>\n",
       "      <td>...</td>\n",
       "    </tr>\n",
       "    <tr>\n",
       "      <th>169</th>\n",
       "      <td>['', '新獨臂', '刀', '', '', '英語', '', 'the', 'new...</td>\n",
       "    </tr>\n",
       "    <tr>\n",
       "      <th>170</th>\n",
       "      <td>['', '新', '精武', '門', '', '', '英語', '', 'fist',...</td>\n",
       "    </tr>\n",
       "    <tr>\n",
       "      <th>171</th>\n",
       "      <td>['', '新', '精武门', '', '', '英語', '', 'new', 'fis...</td>\n",
       "    </tr>\n",
       "    <tr>\n",
       "      <th>172</th>\n",
       "      <td>['', '新', '紮', '师兄', '', '', '英語', '', 'moving...</td>\n",
       "    </tr>\n",
       "    <tr>\n",
       "      <th>173</th>\n",
       "      <td>['', '新', '蜀山', '剑侠', '', '', '英語', '', 'zu', ...</td>\n",
       "    </tr>\n",
       "  </tbody>\n",
       "</table>\n",
       "<p>174 rows × 1 columns</p>\n",
       "</div>"
      ],
      "text/plain": [
       "                                         wuxia_splited\n",
       "0    ['', '一个', '人', '的', '武林', '', '', '英語', '', '...\n",
       "1    ['', '一代', '宗師', '', '', '英語', '', 'the', 'gra...\n",
       "2    ['', '一個', '好人', '', '', '英語', '', 'mr', '.', ...\n",
       "3    ['', '點止', '功夫', '咁', '簡單', '', '', '英語', '', ...\n",
       "4    ['', '一眉', '道人', '', '', '英語', '', 'vampire', ...\n",
       "..                                                 ...\n",
       "169  ['', '新獨臂', '刀', '', '', '英語', '', 'the', 'new...\n",
       "170  ['', '新', '精武', '門', '', '', '英語', '', 'fist',...\n",
       "171  ['', '新', '精武门', '', '', '英語', '', 'new', 'fis...\n",
       "172  ['', '新', '紮', '师兄', '', '', '英語', '', 'moving...\n",
       "173  ['', '新', '蜀山', '剑侠', '', '', '英語', '', 'zu', ...\n",
       "\n",
       "[174 rows x 1 columns]"
      ]
     },
     "execution_count": 26,
     "metadata": {},
     "output_type": "execute_result"
    }
   ],
   "source": [
    "#create new dataframe for wuxia and non_wuxia\n",
    "wuxia = t['wuxia_splited'].copy()\n",
    "wuxia = wuxia.to_frame()\n",
    "wuxia"
   ]
  },
  {
   "cell_type": "markdown",
   "id": "fdd1efc1",
   "metadata": {},
   "source": [
    "### wantsword dictionary morality"
   ]
  },
  {
   "cell_type": "code",
   "execution_count": 27,
   "id": "e93b7848",
   "metadata": {},
   "outputs": [
    {
     "data": {
      "text/plain": [
       "Ttest_indResult(statistic=2.768714862108022, pvalue=0.0059309352208403165)"
      ]
     },
     "execution_count": 27,
     "metadata": {},
     "output_type": "execute_result"
    }
   ],
   "source": [
    "from scipy.stats import ttest_ind\n",
    "import seaborn as sns\n",
    "\n",
    "#repeat the steps \n",
    "wuxia['wuxia_splited_length'] =wuxia['wuxia_splited'].str.len()\n",
    "non_wuxia['non_wuxia_splited_length'] = non_wuxia['non_wuxia_splited'].str.len()\n",
    "\n",
    "\n",
    "wuxia['morality_wuxia'] = sum(wuxia['wuxia_splited'].str.count(x) for x in (\"道德\",\"德操\",'德行','德性','仁义','公德','道义','伦理','仁','美德','明德','良知','义理','正义','公允','公平','正直','公正','公道','守正不阿','合理','公正廉明','正义','公明正大','秉公','铁面无私','大义','义举','道义','仁义','仗义','合理','愧疚','抱愧','疚愧','负疚','内疚','感愧','于心有愧','愤愤不平','愤懑','气愤','愤愤','郁愤','忿忿不平','悲愤','气不平','归咎','归咎于','值得'))\n",
    "non_wuxia['morality_non_wuxia'] = sum(non_wuxia['non_wuxia_splited'].str.count(x) for x in (\"道德\",\"德操\",'德行','德性','仁义','公德','道义','伦理','仁','美德','明德','良知','义理','正义','公允','公平','正直','公正','公道','守正不阿','合理','公正廉明','正义','公明正大','秉公','铁面无私','大义','义举','道义','仁义','仗义','合理','愧疚','抱愧','疚愧','负疚','内疚','感愧','于心有愧','愤愤不平','愤懑','气愤','愤愤','郁愤','忿忿不平','悲愤','气不平','归咎','归咎于','值得'))\n",
    "\n",
    "wuxia['morality_ratio_wuxia'] = wuxia['morality_wuxia'] / wuxia['wuxia_splited_length']\n",
    "non_wuxia['morality_ratio_non_wuxia'] = non_wuxia['morality_non_wuxia'] / non_wuxia['non_wuxia_splited_length']\n",
    "\n",
    "#t-test\n",
    "ttest_ind(wuxia['morality_ratio_wuxia'], non_wuxia[\"morality_ratio_non_wuxia\"])"
   ]
  },
  {
   "cell_type": "code",
   "execution_count": 28,
   "id": "6280bd68",
   "metadata": {},
   "outputs": [
    {
     "name": "stdout",
     "output_type": "stream",
     "text": [
      "0.6206896551724138\n",
      "0.16091954022988506\n"
     ]
    }
   ],
   "source": [
    "Total_9 = wuxia['morality_wuxia'].mean()\n",
    "Total_10 = non_wuxia['morality_non_wuxia'].mean()\n",
    "print(Total_9)\n",
    "print(Total_10)"
   ]
  },
  {
   "cell_type": "markdown",
   "id": "cb0cd86e",
   "metadata": {},
   "source": [
    "### method 2 :bag of words for morality"
   ]
  },
  {
   "cell_type": "code",
   "execution_count": 29,
   "id": "e34a1f9b",
   "metadata": {},
   "outputs": [
    {
     "data": {
      "text/plain": [
       "Ttest_indResult(statistic=1.5215874660792346, pvalue=0.12902582231000181)"
      ]
     },
     "execution_count": 29,
     "metadata": {},
     "output_type": "execute_result"
    }
   ],
   "source": [
    "\n",
    "wuxia['morality_wuxia_2'] = sum(wuxia['wuxia_splited'].str.count(x) for x in ('道德', '伦理道德', '道义','良知', '德性','天道', '人道', '良知',  '公正', '公平', '诚信','平等',  '正义','公平正义',  '天理', '礼义',  '大义', '忠义','内疚', '羞愧','自责','愧疚', '内疚','愤慨', '愤懑', '怨愤', '激愤',  '不平', '悲愤', '激愤',  '愤懑','义愤填膺','归咎'))\n",
    "non_wuxia['morality_non_wuxia_2'] = sum(non_wuxia['non_wuxia_splited'].str.count(x) for x in ('道德', '伦理道德', '道义','良知', '德性','天道', '人道', '良知',  '公正', '公平', '诚信','平等',  '正义','公平正义',  '天理', '礼义',  '大义', '忠义','内疚', '羞愧','自责','愧疚', '内疚','愤慨', '愤懑', '怨愤', '激愤',  '不平', '悲愤', '激愤',  '愤懑','义愤填膺','归咎'))\n",
    "\n",
    "\n",
    "#caculate fictionality words in lenth: t['fictionality_xxxx'] / t['xxx_length']\n",
    "wuxia['morality_ratio_wuxia_2'] = wuxia['morality_wuxia_2'] / wuxia['wuxia_splited_length']\n",
    "non_wuxia['morality_ratio_non_wuxia_2'] = non_wuxia['morality_non_wuxia_2'] / non_wuxia['non_wuxia_splited_length']\n",
    "\n",
    "ttest_ind(wuxia['morality_ratio_wuxia_2'], non_wuxia[\"morality_ratio_non_wuxia_2\"])"
   ]
  },
  {
   "cell_type": "code",
   "execution_count": 30,
   "id": "2c921e83",
   "metadata": {},
   "outputs": [
    {
     "name": "stdout",
     "output_type": "stream",
     "text": [
      "0.12643678160919541\n",
      "0.09195402298850575\n"
     ]
    }
   ],
   "source": [
    "Total_11 = wuxia['morality_wuxia_2'].mean()\n",
    "\n",
    "Total_12 = non_wuxia['morality_non_wuxia_2'].mean()\n",
    "print(Total_11)\n",
    "print(Total_12)"
   ]
  },
  {
   "cell_type": "markdown",
   "id": "afb28f6c",
   "metadata": {},
   "source": [
    "# prosociality compare: wuxia versus non_wuxia genre\n"
   ]
  },
  {
   "cell_type": "markdown",
   "id": "dd86366f",
   "metadata": {},
   "source": [
    "### wantsword method: prosociality (friendship)"
   ]
  },
  {
   "cell_type": "code",
   "execution_count": 31,
   "id": "7701dffe",
   "metadata": {},
   "outputs": [
    {
     "data": {
      "text/plain": [
       "Ttest_indResult(statistic=5.081863076808856, pvalue=6.129099777536459e-07)"
      ]
     },
     "execution_count": 31,
     "metadata": {},
     "output_type": "execute_result"
    }
   ],
   "source": [
    "from scipy.stats import ttest_ind\n",
    "import seaborn as sns\n",
    "\n",
    "wuxia['wuxia_splited_length'] =wuxia['wuxia_splited'].str.len()\n",
    "non_wuxia['non_wuxia_splited_length'] = non_wuxia['non_wuxia_splited'].str.len()\n",
    "\n",
    "wuxia['prosociality_wuxia'] = sum(wuxia['wuxia_splited'].str.count(x) for x in ('朋友','友谊','同袍','知己','知心','结拜','知音','肺腑之交','心心相印','志同道合','推心置腹','肝胆相照','忠肝义胆','结义','结契','兄弟','哥们儿','青梅','竹马','同情','怜恤','恻隐','心软','怜惜','怜','体贴','帮补','援手','舍己为人','与人为善','帮助','相助','救','施恩' ,'济人利物','匡扶','扶持','支持','施予' ,'关怀','关爱', '关照', '关心','扶贫济困','扶危济困','体恤','慈善','行好','热心肠','善心','仁','分享' ,'同享','安慰','抚慰','慰' ,'安抚'))\n",
    "non_wuxia['prosociality_non_wuxia'] = sum(non_wuxia['non_wuxia_splited'].str.count(x) for x in ('朋友','友谊','同袍','知己','知心','结拜','知音','肺腑之交','心心相印','志同道合','推心置腹','肝胆相照','忠肝义胆','结义','结契','兄弟','哥们儿','青梅','竹马','同情','怜恤','恻隐','心软','怜惜','怜','体贴','帮补','援手','舍己为人','与人为善','帮助','相助','救','施恩' ,'济人利物','匡扶','扶持','支持','施予' ,'关怀','关爱', '关照', '关心','扶贫济困','扶危济困','体恤','慈善','行好','热心肠','善心','仁','分享' ,'同享','安慰','抚慰','慰' ,'安抚'))\n",
    "\n",
    "\n",
    "wuxia['prosociality_ratio_wuxia'] = wuxia['prosociality_wuxia'] / wuxia['wuxia_splited_length']\n",
    "non_wuxia['prosociality_ratio_non_wuxia'] = non_wuxia['prosociality_non_wuxia'] / non_wuxia['non_wuxia_splited_length']\n",
    "\n",
    "ttest_ind(wuxia['prosociality_ratio_wuxia'], non_wuxia[\"prosociality_ratio_non_wuxia\"])"
   ]
  },
  {
   "cell_type": "code",
   "execution_count": 32,
   "id": "c8f2adaa",
   "metadata": {},
   "outputs": [
    {
     "name": "stdout",
     "output_type": "stream",
     "text": [
      "2.0\n",
      "1.3275862068965518\n"
     ]
    }
   ],
   "source": [
    "Total_13 = wuxia['prosociality_wuxia'].mean()\n",
    "\n",
    "Total_14 = non_wuxia['prosociality_non_wuxia'].mean()\n",
    "print(Total_13)\n",
    "print(Total_14)"
   ]
  },
  {
   "cell_type": "markdown",
   "id": "c71d857c",
   "metadata": {},
   "source": [
    "### method 2 : bag of words for prosociality (friendship)"
   ]
  },
  {
   "cell_type": "code",
   "execution_count": 33,
   "id": "6da289d9",
   "metadata": {},
   "outputs": [
    {
     "data": {
      "text/plain": [
       "Ttest_indResult(statistic=0.6997480998861823, pvalue=0.4845548132075811)"
      ]
     },
     "execution_count": 33,
     "metadata": {},
     "output_type": "execute_result"
    }
   ],
   "source": [
    "\n",
    "wuxia['prosociality_wuxia_2'] = sum(wuxia['wuxia_splited'].str.count(x) for x in ('关心', '尊重', '关切', '热衷', '热心', '爱护', '同情', '照顾', '同情', '感激', '珍视', '诚挚', '担忧', '惋惜', '敬重', '感谢', '报答', '祝贺', '安慰', '悼念', '献给', '献上', '款待', '爱护', '体谅', '体恤', '敬爱', '帮助', '协助', '鼓励', '支持', '同伴', '激励', '协助', '筹划', '支援', '联络', '扶持', '召集', '老师', '同学', '师傅', '同事', '朋友', '导师', '朋友', '同学','好友', '友谊', '情谊','友情', '友爱', '伴侣', '同舟共济', '并肩', '互惠互利', '平等互利', '互惠', '相互尊重', '和而不同', '捐赠', '捐助', '捐款', '善款', '捐献', '捐给', '募集', '发放', '捐出', '筹集', '鼓励','怜悯'))\n",
    "non_wuxia['prosociality_non_wuxia_2'] = sum(non_wuxia['non_wuxia_splited'].str.count(x) for x in ('关心', '尊重', '关切', '热衷', '热心', '爱护', '同情', '照顾', '同情', '感激', '珍视', '诚挚', '担忧', '惋惜', '敬重', '感谢', '报答', '祝贺', '安慰', '悼念', '献给', '献上', '款待', '爱护', '体谅', '体恤', '敬爱', '帮助', '协助', '鼓励', '支持', '同伴', '激励', '协助', '筹划', '支援', '联络', '扶持', '召集', '老师', '同学', '师傅', '同事', '朋友', '导师', '朋友', '同学','好友', '友谊', '情谊','友情', '友爱', '伴侣', '同舟共济', '并肩', '互惠互利', '平等互利', '互惠', '相互尊重', '和而不同', '捐赠', '捐助', '捐款', '善款', '捐献', '捐给', '募集', '发放', '捐出', '筹集', '鼓励','怜悯'))\n",
    "\n",
    "\n",
    "wuxia['prosociality_ratio_wuxia_2'] = wuxia['prosociality_wuxia_2'] / wuxia['wuxia_splited_length']\n",
    "non_wuxia['prosociality_ratio_non_wuxia_2'] = non_wuxia['prosociality_non_wuxia_2'] / non_wuxia['non_wuxia_splited_length']\n",
    "\n",
    "ttest_ind(wuxia['prosociality_ratio_wuxia_2'], non_wuxia[\"prosociality_ratio_non_wuxia_2\"])"
   ]
  },
  {
   "cell_type": "code",
   "execution_count": 35,
   "id": "a6b0f08d",
   "metadata": {},
   "outputs": [
    {
     "name": "stdout",
     "output_type": "stream",
     "text": [
      "1.0804597701149425\n",
      "1.235632183908046\n"
     ]
    }
   ],
   "source": [
    "Total_15 = wuxia['prosociality_wuxia_2'].mean()\n",
    "Total_16 = non_wuxia['prosociality_non_wuxia_2'].mean()\n",
    "print(Total_15)\n",
    "print(Total_16)"
   ]
  },
  {
   "cell_type": "markdown",
   "id": "c0219147",
   "metadata": {},
   "source": [
    "# kinship compare: romantic comedy vs adventure films"
   ]
  },
  {
   "cell_type": "markdown",
   "id": "6dbe5379",
   "metadata": {},
   "source": [
    "### wantsword method for kinship"
   ]
  },
  {
   "cell_type": "code",
   "execution_count": 36,
   "id": "7055ea2d",
   "metadata": {},
   "outputs": [
    {
     "data": {
      "text/plain": [
       "Ttest_indResult(statistic=0.8077953054006652, pvalue=0.41976342838115954)"
      ]
     },
     "execution_count": 36,
     "metadata": {},
     "output_type": "execute_result"
    }
   ],
   "source": [
    "from scipy.stats import ttest_ind\n",
    "import seaborn as sns\n",
    "t['adventure_splited_length'] = t['adventure_splited'].str.len()\n",
    "t['romantic_comedy_splited_length'] = t['romantic_comedy_splited'].str.len()\n",
    "\n",
    "t['kinship_comedy'] = sum(t['romantic_comedy_splited'].str.count(x) for x in ('亲戚','血亲','直系亲属','亲戚','姻亲','血缘','直系','嫡亲','亲族','亲人','世亲','亲眷','子','嫡堂','血统','亲子','宗亲','族亲','胞族','干亲','嫡','亲缘','姻亚','外族','祖宗','父系','宗族','近亲','尊亲','母系','嫡系','六亲','同胞','家庭','亲人','父母','家长'))\n",
    "t['kinship_adventure'] = sum(t['adventure_splited'].str.count(x) for x in ('亲戚','血亲','直系亲属','亲戚','姻亲','血缘','直系','嫡亲','亲族','亲人','世亲','亲眷','子','嫡堂','血统','亲子','宗亲','族亲','胞族','干亲','嫡','亲缘','姻亚','外族','祖宗','父系','宗族','近亲','尊亲','母系','嫡系','六亲','同胞','家庭','亲人','父母','家长'))\n",
    "\n",
    "\n",
    "t['kinship_ratio_comedy'] = t['kinship_comedy'] / t['romantic_comedy_splited_length']\n",
    "t['kinship_ratio_adventure'] = t['kinship_adventure'] / t['adventure_splited_length']\n",
    "\n",
    "ttest_ind(t['kinship_ratio_comedy'], t['kinship_ratio_adventure'])"
   ]
  },
  {
   "cell_type": "code",
   "execution_count": 37,
   "id": "0b1df47f",
   "metadata": {},
   "outputs": [
    {
     "name": "stdout",
     "output_type": "stream",
     "text": [
      "0.0007091284143417267\n",
      "0.0006152676116488727\n"
     ]
    }
   ],
   "source": [
    "Total_17 = t['kinship_ratio_comedy'].mean()\n",
    "Total_18 = t['kinship_ratio_adventure'].mean()\n",
    "print(Total_17)\n",
    "print(Total_18)"
   ]
  },
  {
   "cell_type": "markdown",
   "id": "f471f275",
   "metadata": {},
   "source": [
    "### method 2: bag of words for kinship"
   ]
  },
  {
   "cell_type": "code",
   "execution_count": 38,
   "id": "dce19f2c",
   "metadata": {},
   "outputs": [
    {
     "data": {
      "text/plain": [
       "Ttest_indResult(statistic=0.3095005171363655, pvalue=0.7571271230737047)"
      ]
     },
     "execution_count": 38,
     "metadata": {},
     "output_type": "execute_result"
    }
   ],
   "source": [
    "\n",
    "t['kinship_comedy_2'] = sum(t['romantic_comedy_splited'].str.count(x) for x in ('亲戚', '舅舅', '亲戚朋友', '老乡', '同乡', '表弟', '亲朋好友', '熟人', '女婿', '妹夫', '远房亲戚', '舅父', '侄女', '姑姑', '岳母','家族','大家族', '后裔', '王室', '后代', '氏族', '皇室', '旁支', '表亲', '王族', '母系', '父祖', '表兄弟', '堂兄弟','父母', '双亲', '父母亲', '母亲', '家人', '丈夫', '子女', '养父母', '父亲', '祖母', '小孩', '继父', '儿女', '爸妈', '儿媳','孝', '忠', '恭', '贞', '昭', '懿', '贤', '世子','养育', '抚育', '抚养', '扶养', '养大', '收养', '哺育', '养', '领养', '供养', '照看', '教养', '服侍', '生养', '照管','血缘', '血亲', '父系', '同宗', '母系', '亲密关系', '母方', '同族', '亲兄弟', '亲子关系', '谱系', '该族','族', '部落', '部族', '族群'))\n",
    "t['kinship_adventure_2'] = sum(t['adventure_splited'].str.count(x) for x in ('亲戚', '舅舅', '亲戚朋友', '老乡', '同乡', '表弟', '亲朋好友', '熟人', '女婿', '妹夫', '远房亲戚', '舅父', '侄女', '姑姑', '岳母','家族','大家族', '后裔', '王室', '后代', '氏族', '皇室', '旁支', '表亲', '王族', '母系', '父祖', '表兄弟', '堂兄弟','父母', '双亲', '父母亲', '母亲', '家人', '丈夫', '子女', '养父母', '父亲', '祖母', '小孩', '继父', '儿女', '爸妈', '儿媳','孝', '忠', '恭', '贞', '昭', '懿', '贤', '世子','养育', '抚育', '抚养', '扶养', '养大', '收养', '哺育', '养', '领养', '供养', '照看', '教养', '服侍', '生养', '照管','血缘', '血亲', '父系', '同宗', '母系', '亲密关系', '母方', '同族', '亲兄弟', '亲子关系', '谱系', '该族','族', '部落', '部族', '族群'))\n",
    "\n",
    "\n",
    "t['kinship_ratio_comedy_2'] = t['kinship_comedy_2'] / t['romantic_comedy_splited_length']\n",
    "t['kinship_ratio_adventure_2'] = t['kinship_adventure_2'] / t['adventure_splited_length']\n",
    "\n",
    "ttest_ind(t['kinship_ratio_comedy_2'], t['kinship_ratio_adventure_2'])"
   ]
  },
  {
   "cell_type": "code",
   "execution_count": 39,
   "id": "069a15fa",
   "metadata": {},
   "outputs": [
    {
     "name": "stdout",
     "output_type": "stream",
     "text": [
      "0.00038541342209396577\n",
      "0.0003534966266440119\n"
     ]
    }
   ],
   "source": [
    "Total_19 = t['kinship_ratio_comedy_2'].mean()\n",
    "\n",
    "Total_20 = t['kinship_ratio_adventure_2'].mean()\n",
    "print(Total_19)\n",
    "print(Total_20)"
   ]
  },
  {
   "cell_type": "markdown",
   "id": "7266cbc9",
   "metadata": {},
   "source": [
    "# status and conflict compare: historical versus fantasy"
   ]
  },
  {
   "cell_type": "markdown",
   "id": "97eaee46",
   "metadata": {},
   "source": [
    "### method wantsword for status and conflict"
   ]
  },
  {
   "cell_type": "code",
   "execution_count": 40,
   "id": "80aab9dc",
   "metadata": {},
   "outputs": [
    {
     "data": {
      "text/plain": [
       "Ttest_indResult(statistic=0.5774247756691117, pvalue=0.5640280807254625)"
      ]
     },
     "execution_count": 40,
     "metadata": {},
     "output_type": "execute_result"
    }
   ],
   "source": [
    "\n",
    "# the total length of each description \n",
    "t['historical_splited_length'] = t['historical_splited'].str.len()\n",
    "t['romantic_comedy_splited_length'] = t['romantic_comedy_splited'].str.len()\n",
    "\n",
    "\n",
    "t['status_comedy'] = sum(t['romantic_comedy_splited'].str.count(x) for x in ('身份','名分','出身','位分','资格','体面','排场','身价','官身','籍','身段','位望','位居','层级','上流','身价','份儿','霸权','名位','声价','势力','待遇','阶层','贵贱','权位'))\n",
    "t['status_historical'] = sum(t['historical_splited'].str.count(x) for x in ('身份','名分','出身','位分','资格','体面','排场','身价','官身','籍','身段','位望','位居','层级','上流','身价','份儿','霸权','名位','声价','势力','待遇','阶层','贵贱','权位'))\n",
    "\n",
    "\n",
    "t['status_ratio_comedy'] = t['status_comedy'] / t['romantic_comedy_splited_length']\n",
    "t['status_ratio_historical'] = t['status_historical'] / t['historical_splited_length']\n",
    "\n",
    "ttest_ind(t['status_ratio_historical'],t['status_ratio_comedy'])"
   ]
  },
  {
   "cell_type": "code",
   "execution_count": 41,
   "id": "ba6e2f26",
   "metadata": {},
   "outputs": [
    {
     "name": "stdout",
     "output_type": "stream",
     "text": [
      "0.1839080459770115\n",
      "0.4425287356321839\n"
     ]
    }
   ],
   "source": [
    "Total_25 = t['status_comedy'].mean()\n",
    "Total_26 = t['status_historical'].mean()\n",
    "print(Total_25)\n",
    "print(Total_26)"
   ]
  },
  {
   "cell_type": "markdown",
   "id": "ddc7f95c",
   "metadata": {},
   "source": [
    "### method 2 bag of words for status and conflict"
   ]
  },
  {
   "cell_type": "code",
   "execution_count": 42,
   "id": "9f08b64b",
   "metadata": {},
   "outputs": [
    {
     "data": {
      "text/plain": [
       "Ttest_indResult(statistic=3.71968003870418, pvalue=0.00023266142505618957)"
      ]
     },
     "execution_count": 42,
     "metadata": {},
     "output_type": "execute_result"
    }
   ],
   "source": [
    "\n",
    "t['status_comedy_2'] = sum(t['romantic_comedy_splited'].str.count(x) for x in ('地位','声望', '竞争', '主导',  '威望', '声誉', '重要性','威信','品第', '王侯', '官', '身分', '身份', '名号','荣誉', '头衔', '功绩', '骄傲', '自豪', '钦佩', '敬佩','光荣','崇敬', '仰慕','服从', '顺从', '遵从', '命令', '遵守', '听从', '效忠', '听命', '顺服', '依从', '听命于', '遵照', '忠于','权威', '权威性', '实力', '竞争', '战力', '攻击', '统治',  '战斗','羞耻','厌恶', '轻蔑', '可耻',  '允许', '容许', '准许', '禁止', '限制', '强制', '强迫',  '严禁', '明令禁止', '禁令',  '不准', '禁用', '不容许', '准许', '强迫', '容许','义务', '权利', '责任', '职责', '冲突', '纷争', '暴力', '争执', '流血', '关系紧张', '矛盾', '争斗', '对立', '动乱', '暴乱','战争', '内战', '战事', '叛乱', '起义', '叛变', '起事', '反叛', '兵变', '暴乱', '暴动', '民变', '农民起义', '反抗', '动乱', '内乱', '反乱', '叛军'))\n",
    "t['status_historical_2'] = sum(t['historical_splited'].str.count(x) for x in ('地位','声望', '竞争', '主导',  '威望', '声誉', '重要性','威信','品第', '王侯', '官', '身分', '身份', '名号','荣誉', '头衔', '功绩', '骄傲', '自豪', '钦佩', '敬佩','光荣','崇敬', '仰慕','服从', '顺从', '遵从', '命令', '遵守', '听从', '效忠', '听命', '顺服', '依从', '听命于', '遵照', '忠于','权威', '权威性', '实力', '竞争', '战力', '攻击', '统治',  '战斗','羞耻','厌恶', '轻蔑', '可耻',  '允许', '容许', '准许', '禁止', '限制', '强制', '强迫',  '严禁', '明令禁止', '禁令',  '不准', '禁用', '不容许', '准许', '强迫', '容许','义务', '权利', '责任', '职责', '冲突', '纷争', '暴力', '争执', '流血', '关系紧张', '矛盾', '争斗', '对立', '动乱', '暴乱','战争', '内战', '战事', '叛乱', '起义', '叛变', '起事', '反叛', '兵变', '暴乱', '暴动', '民变', '农民起义', '反抗', '动乱', '内乱', '反乱', '叛军'))\n",
    "\n",
    "\n",
    "t['status_ratio_comedy_2'] = t['status_comedy_2'] / t['romantic_comedy_splited_length']\n",
    "t['status_ratio_historical_2'] = t['status_historical_2'] / t['historical_splited_length']\n",
    "\n",
    "ttest_ind(t['status_ratio_historical_2'],t['status_ratio_comedy_2'])"
   ]
  },
  {
   "cell_type": "code",
   "execution_count": 43,
   "id": "fee40026",
   "metadata": {},
   "outputs": [
    {
     "name": "stdout",
     "output_type": "stream",
     "text": [
      "0.5574712643678161\n",
      "2.281609195402299\n"
     ]
    }
   ],
   "source": [
    "Total_27 = t['status_comedy_2'].mean()\n",
    "\n",
    "Total_28 = t['status_historical_2'].mean()\n",
    "print(Total_27)\n",
    "print(Total_28)"
   ]
  },
  {
   "cell_type": "markdown",
   "id": "bb4f5c15",
   "metadata": {},
   "source": [
    "# self-development compare: coming of age film versus romantic comedy film"
   ]
  },
  {
   "cell_type": "markdown",
   "id": "db392d56",
   "metadata": {},
   "source": [
    "### wantsword method for self development"
   ]
  },
  {
   "cell_type": "code",
   "execution_count": 45,
   "id": "c59b6c17",
   "metadata": {},
   "outputs": [
    {
     "data": {
      "text/plain": [
       "Ttest_indResult(statistic=-0.9929286662607051, pvalue=0.3214385939167695)"
      ]
     },
     "execution_count": 45,
     "metadata": {},
     "output_type": "execute_result"
    }
   ],
   "source": [
    "\n",
    "# the total length of each description \n",
    "t['comingofage_splited_length'] = t['comingofage_splited'].str.len()\n",
    "\n",
    "\n",
    "t['development_comingofage'] = sum(t['comingofage_splited'].str.count(x) for x in ('修身','慎行','修行','修养','修身养性','修身洁行','正身','立身行道','自修','修炼','自治','砥砺德行','修身齐家','修真养性','教养','自强','自发','自我表现','自足','自修','自持','自主','自制力','自矜'))\n",
    "t['development_comedy'] = sum(t['romantic_comedy_splited'].str.count(x) for x in ('修身','慎行','修行','修养','修身养性','修身洁行','正身','立身行道','自修','修炼','自治','砥砺德行','修身齐家','修真养性','教养','自强','自发','自我表现','自足','自修','自持','自主','自制力','自矜'))\n",
    "\n",
    "\n",
    "t['development_ratio_comingofage'] = t['development_comingofage'] / t['comingofage_splited_length']\n",
    "t['development_ratio_comedy'] = t['development_comedy'] / t['romantic_comedy_splited_length']\n",
    "\n",
    "ttest_ind(t['development_ratio_comingofage'], t['development_ratio_comedy'])"
   ]
  },
  {
   "cell_type": "code",
   "execution_count": 46,
   "id": "f76326e7",
   "metadata": {},
   "outputs": [
    {
     "name": "stdout",
     "output_type": "stream",
     "text": [
      "0.005747126436781609\n",
      "0.028735632183908046\n"
     ]
    }
   ],
   "source": [
    "Total_29 = t['development_comingofage'].mean()\n",
    "\n",
    "Total_30 = t['development_comedy'].mean()\n",
    "print(Total_29)\n",
    "print(Total_30)"
   ]
  },
  {
   "cell_type": "markdown",
   "id": "1cbd106d",
   "metadata": {},
   "source": [
    "### method 2 bag of words for self development"
   ]
  },
  {
   "cell_type": "code",
   "execution_count": 48,
   "id": "7e7e6438",
   "metadata": {},
   "outputs": [
    {
     "data": {
      "text/plain": [
       "Ttest_indResult(statistic=2.754326111904449, pvalue=0.006192127738204942)"
      ]
     },
     "execution_count": 48,
     "metadata": {},
     "output_type": "execute_result"
    }
   ],
   "source": [
    "\n",
    "# the total length of each description \n",
    "t['comingofage_splited_length'] = t['comingofage_splited'].str.len()\n",
    "\n",
    "\n",
    "t['development_comingofage_2'] = sum(t['comingofage_splited'].str.count(x) for x in ('成长',  '蜕变',  '茁壮成长', '茁壮', '健康成长','修炼',  '修行', '修道', '修持', '苦行', '苦修', '参悟','个性', '性格', '气质', '学习', '自学', '研习', '学', '努力', '讲授', '钻研', '读书',  '研读', '进修', '授课', '修习','自律', '自我管理','自律','修身养性', '陶冶','自强', '力行', '有志', '忠义',  '自力', '自强'))\n",
    "t['development_comedy_2'] = sum(t['romantic_comedy_splited'].str.count(x) for x in ('成长',  '蜕变',  '茁壮成长', '茁壮', '健康成长','修炼',  '修行', '修道', '修持', '苦行', '苦修', '参悟','个性', '性格', '气质', '学习', '自学', '研习', '学', '努力', '讲授', '钻研', '读书',  '研读', '进修', '授课', '修习','自律', '自我管理','自律','修身养性', '陶冶','自强', '力行', '有志', '忠义',  '自力', '自强'))\n",
    "\n",
    "\n",
    "t['development_ratio_comingofage_2'] = t['development_comingofage_2'] / t['comingofage_splited_length']\n",
    "t['development_ratio_comedy_2'] = t['development_comedy_2'] / t['romantic_comedy_splited_length']\n",
    "\n",
    "ttest_ind(t['development_ratio_comingofage_2'], t[\"development_ratio_comedy_2\"])"
   ]
  },
  {
   "cell_type": "code",
   "execution_count": 50,
   "id": "9f8b519d",
   "metadata": {},
   "outputs": [
    {
     "name": "stdout",
     "output_type": "stream",
     "text": [
      "1.5632183908045978\n",
      "0.6781609195402298\n"
     ]
    }
   ],
   "source": [
    "Total_31 = t['development_comingofage_2'].mean()\n",
    "\n",
    "Total_32 = t['development_comedy_2'].mean()\n",
    "print(Total_31)\n",
    "print(Total_32)"
   ]
  }
 ],
 "metadata": {
  "kernelspec": {
   "display_name": "Python 3 (ipykernel)",
   "language": "python",
   "name": "python3"
  },
  "language_info": {
   "codemirror_mode": {
    "name": "ipython",
    "version": 3
   },
   "file_extension": ".py",
   "mimetype": "text/x-python",
   "name": "python",
   "nbconvert_exporter": "python",
   "pygments_lexer": "ipython3",
   "version": "3.9.7"
  }
 },
 "nbformat": 4,
 "nbformat_minor": 5
}
